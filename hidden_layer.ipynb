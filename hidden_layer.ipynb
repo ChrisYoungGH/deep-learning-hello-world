{
 "cells": [
  {
   "cell_type": "code",
   "execution_count": null,
   "metadata": {
    "collapsed": true
   },
   "outputs": [],
   "source": [
    "# 使用有隐含层的神经网络训练MNIST数据集"
   ]
  },
  {
   "cell_type": "code",
   "execution_count": 2,
   "metadata": {},
   "outputs": [
    {
     "name": "stdout",
     "output_type": "stream",
     "text": [
      "Extracting MNIST_data/train-images-idx3-ubyte.gz\n",
      "Extracting MNIST_data/train-labels-idx1-ubyte.gz\n",
      "Extracting MNIST_data/t10k-images-idx3-ubyte.gz\n",
      "Extracting MNIST_data/t10k-labels-idx1-ubyte.gz\n"
     ]
    }
   ],
   "source": [
    "# 加载数据集\n",
    "from tensorflow.examples.tutorials.mnist import input_data\n",
    "import tensorflow as tf\n",
    "mnist = input_data.read_data_sets(\"MNIST_data/\", one_hot=True)\n",
    "sess = tf.InteractiveSession()"
   ]
  },
  {
   "cell_type": "code",
   "execution_count": 3,
   "metadata": {
    "collapsed": true
   },
   "outputs": [],
   "source": [
    "#　设置和初始化网络参数\n",
    "in_units = 784　　　# 输入节点数\n",
    "h1_units = 300　　　# 隐含层输出节点数\n",
    "# 因为激活函数使用ReLU，需要通过正态分布增加一些噪声，打破完全对称，避免0梯度\n",
    "W1 = tf.Variable(tf.truncated_normal([in_units, h1_units], stddev=0.1))　　# 隐含层权重，初始化为截断正态分布，标准差为0.1\n",
    "b1 = tf.Variable(tf.zeros([h1_units]))　　　 #　隐含层偏置，初始化为0\n",
    "# 输出层权重和偏置\n",
    "W2 = tf.Variable(tf.zeros([h1_units, 10]))\n",
    "b2 = tf.Variable(tf.zeros([10]))"
   ]
  },
  {
   "cell_type": "code",
   "execution_count": 4,
   "metadata": {
    "collapsed": true
   },
   "outputs": [],
   "source": [
    "# 使用Dropout方法，将网络该层的输出节点数据随机丢弃一部分(keep_porb：保留概率)\n",
    "# 通过增加样本量、减少特征量，创造新随机样本，防止过拟合\n",
    "# keep_prob通常训练时<1，预测时=1\n",
    "x = tf.placeholder(tf.float32, [None, in_units])\n",
    "keep_prob = tf.placeholder(tf.float32)"
   ]
  },
  {
   "cell_type": "code",
   "execution_count": 5,
   "metadata": {
    "collapsed": true
   },
   "outputs": [],
   "source": [
    "# 定义模型结构\n",
    "hidden1 = tf.nn.relu(tf.matmul(x, W1) + b1)   # 隐含层，relu激活函数\n",
    "hidden1_drop = tf.nn.dropout(hidden1, keep_prob)  # Dropout层\n",
    "y = tf.nn.softmax(tf.matmul(hidden1_drop, W2) + b2)  # 输出层，softmax激活（分类）"
   ]
  },
  {
   "cell_type": "code",
   "execution_count": 7,
   "metadata": {
    "collapsed": true
   },
   "outputs": [],
   "source": [
    "# 定义loss和优化算法\n",
    "# loss: cross entropy\n",
    "# 优化器：Adagrad\n",
    "y_ = tf.placeholder(tf.float32, [None, 10])\n",
    "cross_entropy = tf.reduce_mean(-tf.reduce_sum(y_ * tf.log(y), reduction_indices=[1]))\n",
    "train_step = tf.train.AdagradOptimizer(0.3).minimize(cross_entropy)  # 学习速率0.3"
   ]
  },
  {
   "cell_type": "code",
   "execution_count": 8,
   "metadata": {
    "collapsed": true
   },
   "outputs": [],
   "source": [
    "# 开始训练，每个batch包含100条样本，训练3000次，相当于一共30w样本，对全数据进行了5epoch迭代\n",
    "tf.global_variables_initializer().run()\n",
    "for i in range(3000):\n",
    "    batch_xs, batch_ys = mnist.train.next_batch(100)\n",
    "    train_step.run({x:batch_xs, y_:batch_ys, keep_prob:0.75})  # 输入时采用Dropout，保留75%节点，其余为0"
   ]
  },
  {
   "cell_type": "code",
   "execution_count": 9,
   "metadata": {},
   "outputs": [
    {
     "name": "stdout",
     "output_type": "stream",
     "text": [
      "0.9777\n"
     ]
    }
   ],
   "source": [
    "# 测试集预测结果\n",
    "correct_prediction = tf.equal(tf.argmax(y,1), tf.argmax(y_,1))\n",
    "accuracy = tf.reduce_mean(tf.cast(correct_prediction, tf.float32))\n",
    "print(accuracy.eval({x:mnist.test.images, y_:mnist.test.labels, keep_prob:1.0}))"
   ]
  }
 ],
 "metadata": {
  "kernelspec": {
   "display_name": "Python 3",
   "language": "python",
   "name": "python3"
  },
  "language_info": {
   "codemirror_mode": {
    "name": "ipython",
    "version": 3
   },
   "file_extension": ".py",
   "mimetype": "text/x-python",
   "name": "python",
   "nbconvert_exporter": "python",
   "pygments_lexer": "ipython3",
   "version": "3.6.1"
  }
 },
 "nbformat": 4,
 "nbformat_minor": 2
}
