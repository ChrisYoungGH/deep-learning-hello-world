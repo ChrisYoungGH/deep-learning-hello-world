{
 "cells": [
  {
   "cell_type": "code",
   "execution_count": 1,
   "metadata": {
    "collapsed": true
   },
   "outputs": [],
   "source": [
    "from datetime import datetime\n",
    "import math\n",
    "import time\n",
    "import tensorflow as tf"
   ]
  },
  {
   "cell_type": "code",
   "execution_count": 2,
   "metadata": {
    "collapsed": true
   },
   "outputs": [],
   "source": [
    "# 卷积层函数，用于创建卷积层并把本层的参数存入参数列表\n",
    "def conv_op(input_op,   # 输入的tensor\n",
    "            name,       # 这一层的名称\n",
    "            kh,         # 卷积核高\n",
    "            kw,         # 卷积核宽\n",
    "            n_out,      # 卷积核数量，即输出通道数\n",
    "            dh,         # 步长的高\n",
    "            dw,         # 步长的宽 \n",
    "            p           # 参数列表\n",
    "           ):\n",
    "    n_in = input_op.get_shape()[-1].value\n",
    "    \n",
    "    with tf.name_scope(name) as scope:\n",
    "        kernel = tf.get_variable(scope+'w', \n",
    "                                shape=[kh, kw, n_in, n_out],\n",
    "                                dtype=tf.float32,\n",
    "                                initializer=tf.contrib.layers.xavier_initializer_conv2d())\n",
    "        conv = tf.nn.conv2d(input_op, kernel, (1, dh, dw, 1), padding='SAME')\n",
    "        bias_init_val = tf.constant(0.0, shape=[n_out], dtype=tf.float32)\n",
    "        biases = tf.Variable(bias_init_val, trainable=True, name='b')\n",
    "        z = tf.nn.bias_add(conv, biases)\n",
    "        activation = tf.nn.relu(z, name=scope)\n",
    "        p += [kernel, biases]\n",
    "        \n",
    "        return activation"
   ]
  },
  {
   "cell_type": "code",
   "execution_count": 3,
   "metadata": {
    "collapsed": true
   },
   "outputs": [],
   "source": [
    "# 全连接层函数\n",
    "def fc_op(input_op, name, n_out, p):\n",
    "    n_in = input_op.get_shape()[-1].value\n",
    "    \n",
    "    with tf.name_scope(name) as scope:\n",
    "        kernel = tf.get_variable(scope+'w',\n",
    "                                shape=[n_in, n_out], \n",
    "                                dtype=tf.float32,\n",
    "                                initializer=tf.contrib.layers.xavier_initializer())\n",
    "        biases = tf.Variable(tf.constant(0.1, shape=[n_out], dtype=tf.float32), name='b') # 初始值非0以避免dead neuron\n",
    "        activation = tf.nn.relu_layer(input_op, kernel, biases, name=scope)\n",
    "        p += [kernel, biases]\n",
    "        \n",
    "        return activation"
   ]
  },
  {
   "cell_type": "code",
   "execution_count": 4,
   "metadata": {
    "collapsed": true
   },
   "outputs": [],
   "source": [
    "# 最大池化层函数\n",
    "def mpool_op(input_op, name, kh, kw, dh, dw):\n",
    "    return tf.nn.max_pool(input_op, ksize=[1,kh,kw,1], strides=[1,dh,dw,1], padding='SAME', name=name)"
   ]
  },
  {
   "cell_type": "code",
   "execution_count": 5,
   "metadata": {
    "collapsed": true
   },
   "outputs": [],
   "source": [
    "# VGG网络结构\n",
    "def inference_op(input_op, keep_prob):\n",
    "    p = []\n",
    "    \n",
    "    # 第1段卷积网络\n",
    "    conv1_1 = conv_op(input_op, name='conv1_1', kh=3, kw=3, n_out=64, dh=1, dw=1, p=p)\n",
    "    conv1_2 = conv_op(conv1_1, name='conv1_2', kh=3, kw=3, n_out=64, dh=1, dw=1, p=p)\n",
    "    pool1 = mpool_op(conv1_2, name='pool1', kh=2, kw=2, dw=2, dh=2)\n",
    "    \n",
    "    # 第2段卷积网络\n",
    "    conv2_1 = conv_op(pool1, name='conv2_1', kh=3, kw=3, n_out=128, dh=1, dw=1, p=p)\n",
    "    conv2_2 = conv_op(conv2_1, name='conv2_2', kh=3, kw=3, n_out=128, dh=1, dw=1, p=p)\n",
    "    pool2 = mpool_op(conv2_2, name='pool2', kh=2, kw=2, dw=2, dh=2)\n",
    "    \n",
    "    # 第3段卷积网络\n",
    "    conv3_1 = conv_op(pool2, name='conv3_1', kh=3, kw=3, n_out=256, dh=1, dw=1, p=p)\n",
    "    conv3_2 = conv_op(conv3_1, name='conv3_2', kh=3, kw=3, n_out=256, dh=1, dw=1, p=p)\n",
    "    conv3_3 = conv_op(conv3_2, name='conv3_3', kh=3, kw=3, n_out=256, dh=1, dw=1, p=p)\n",
    "    pool3 = mpool_op(conv3_3, name='pool3', kh=2, kw=2, dh=2, dw=2)\n",
    "    \n",
    "    # 第4段卷积网络\n",
    "    conv4_1 = conv_op(pool3, name='conv4_1', kh=3, kw=3, n_out=512, dh=1, dw=1, p=p)\n",
    "    conv4_2 = conv_op(conv4_1, name='conv4_2', kh=3, kw=3, n_out=512, dh=1, dw=1, p=p)\n",
    "    conv4_3 = conv_op(conv4_2, name='conv4_3', kh=3, kw=3, n_out=512, dh=1, dw=1, p=p)\n",
    "    pool4 = mpool_op(conv4_3, name='pool4', kh=2, kw=2, dh=2, dw=2)\n",
    "    \n",
    "    # 第5段卷积网络\n",
    "    conv5_1 = conv_op(pool4, name='conv5_1', kh=3, kw=3, n_out=512, dh=1, dw=1, p=p)\n",
    "    conv5_2 = conv_op(conv5_1, name='conv5_2', kh=3, kw=3, n_out=512, dh=1, dw=1, p=p)\n",
    "    conv5_3 = conv_op(conv5_2, name='conv5_3', kh=3, kw=3, n_out=512, dh=1, dw=1, p=p)\n",
    "    pool5 = mpool_op(conv5_3, name='pool5', kh=2, kw=2, dh=2, dw=2)\n",
    "    \n",
    "    # 将输出扁平化，转为7×7×512的一维向量\n",
    "    shp = pool5.get_shape()\n",
    "    flattened_shape = shp[1].value * shp[2].value * shp[3].value\n",
    "    resh1 = tf.reshape(pool5, [-1, flattened_shape], name='resh1')\n",
    "    \n",
    "    # 全连接层\n",
    "    fc6 = fc_op(resh1, name='fc6', n_out=4096, p=p)\n",
    "    fc6_drop = tf.nn.dropout(fc6, keep_prob, name='fc6_drop')\n",
    "    \n",
    "    fc7 = fc_op(fc6_drop, name='fc7', n_out=4096, p=p)\n",
    "    fc7_drop = tf.nn.dropout(fc7, keep_prob, name='fc7_drop')\n",
    "    \n",
    "    fc8 = fc_op(fc7_drop, name='fc8', n_out=1000, p=p)\n",
    "    softmax = tf.nn.softmax(fc8)\n",
    "    predictions = tf.argmax(softmax, 1)\n",
    "    \n",
    "    return predictions, softmax, fc8, p"
   ]
  },
  {
   "cell_type": "code",
   "execution_count": 6,
   "metadata": {
    "collapsed": true
   },
   "outputs": [],
   "source": [
    "# 评测时间函数\n",
    "def time_tensorflow_run(session, target, feed, info_string):\n",
    "    num_steps_burn_in = 10\n",
    "    total_duration = 0.0\n",
    "    total_duration_squared = 0.0\n",
    "    for i in range(num_batches + num_steps_burn_in):\n",
    "        start_time = time.time()\n",
    "        _ = session.run(target, feed_dict=feed)\n",
    "        duration = time.time() - start_time\n",
    "        if i >= num_steps_burn_in:\n",
    "            if not i % 10:\n",
    "                print('%s: step %d, duration = %.3f' % (datetime.now(), i - num_steps_burn_in, duration))\n",
    "            total_duration += duration\n",
    "            total_duration_squared += duration * duration\n",
    "            \n",
    "    mn = total_duration / num_batches\n",
    "    vr = total_duration_squared / num_batches - mn * mn\n",
    "    sd = math.sqrt(vr)\n",
    "    print('%s: %s across %d steps, %.3f +/- %.3f sec / batch' % (datetime.now(), info_string, num_batches, mn, sd))"
   ]
  },
  {
   "cell_type": "code",
   "execution_count": 7,
   "metadata": {
    "collapsed": true
   },
   "outputs": [],
   "source": [
    "# 测试函数\n",
    "def run_benchmark():\n",
    "    with tf.Graph().as_default():\n",
    "        image_size = 224\n",
    "        images = tf.Variable(tf.random_normal([batch_size, image_size, image_size, 3], \n",
    "                                              dtype=tf.float32,\n",
    "                                              stddev=1e-1))\n",
    "        \n",
    "        keep_prob = tf.placeholder(tf.float32)\n",
    "        predictions, softmax, fc8, p = inference_op(images, keep_prob)\n",
    "        \n",
    "        init = tf.global_variables_initializer()\n",
    "        \n",
    "        config = tf.ConfigProto()\n",
    "        config.gpu_options.allocator_type = 'BFC'\n",
    "        sess = tf.Session(config=config)\n",
    "        sess.run(init)\n",
    "        \n",
    "        time_tensorflow_run(sess, predictions, {keep_prob:1.0}, 'Forward')\n",
    "        \n",
    "        objective = tf.nn.l2_loss(fc8)\n",
    "        grad = tf.gradients(objective, p)\n",
    "        time_tensorflow_run(sess, grad, {keep_prob:0.5}, 'Forward-backward')"
   ]
  },
  {
   "cell_type": "code",
   "execution_count": 8,
   "metadata": {},
   "outputs": [
    {
     "name": "stdout",
     "output_type": "stream",
     "text": [
      "2017-11-14 11:32:12.241743: step 0, duration = 0.654\n",
      "2017-11-14 11:32:18.797779: step 10, duration = 0.656\n",
      "2017-11-14 11:32:25.352245: step 20, duration = 0.653\n",
      "2017-11-14 11:32:31.905556: step 30, duration = 0.656\n",
      "2017-11-14 11:32:38.454880: step 40, duration = 0.655\n",
      "2017-11-14 11:32:45.000278: step 50, duration = 0.655\n",
      "2017-11-14 11:32:51.547299: step 60, duration = 0.655\n",
      "2017-11-14 11:32:58.091657: step 70, duration = 0.654\n",
      "2017-11-14 11:33:04.646455: step 80, duration = 0.654\n",
      "2017-11-14 11:33:11.199659: step 90, duration = 0.654\n",
      "2017-11-14 11:33:17.105426: Forward across 100 steps, 0.655 +/- 0.002 sec / batch\n",
      "2017-11-14 11:33:47.248155: step 0, duration = 2.220\n",
      "2017-11-14 11:34:09.467308: step 10, duration = 2.219\n",
      "2017-11-14 11:34:31.683558: step 20, duration = 2.226\n",
      "2017-11-14 11:34:53.884594: step 30, duration = 2.218\n",
      "2017-11-14 11:35:16.100005: step 40, duration = 2.222\n",
      "2017-11-14 11:35:38.331837: step 50, duration = 2.221\n",
      "2017-11-14 11:36:00.538301: step 60, duration = 2.218\n",
      "2017-11-14 11:36:22.760575: step 70, duration = 2.218\n",
      "2017-11-14 11:36:44.984241: step 80, duration = 2.224\n",
      "2017-11-14 11:37:07.184388: step 90, duration = 2.222\n",
      "2017-11-14 11:37:27.170495: Forward-backward across 100 steps, 2.221 +/- 0.003 sec / batch\n"
     ]
    }
   ],
   "source": [
    "batch_size = 32\n",
    "num_batches = 100\n",
    "run_benchmark()"
   ]
  },
  {
   "cell_type": "code",
   "execution_count": null,
   "metadata": {
    "collapsed": true
   },
   "outputs": [],
   "source": []
  }
 ],
 "metadata": {
  "kernelspec": {
   "display_name": "Python 3",
   "language": "python",
   "name": "python3"
  },
  "language_info": {
   "codemirror_mode": {
    "name": "ipython",
    "version": 3
   },
   "file_extension": ".py",
   "mimetype": "text/x-python",
   "name": "python",
   "nbconvert_exporter": "python",
   "pygments_lexer": "ipython3",
   "version": "3.6.1"
  }
 },
 "nbformat": 4,
 "nbformat_minor": 2
}
